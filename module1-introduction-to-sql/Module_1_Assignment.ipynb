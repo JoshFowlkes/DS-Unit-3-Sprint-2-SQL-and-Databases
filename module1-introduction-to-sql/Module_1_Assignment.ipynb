{
 "cells": [
  {
   "cell_type": "code",
   "execution_count": 2,
   "metadata": {},
   "outputs": [],
   "source": [
    "import sqlite3\n",
    "import os"
   ]
  },
  {
   "cell_type": "code",
   "execution_count": 6,
   "metadata": {},
   "outputs": [],
   "source": [
    "def create_connection(db_file, verbose = False):\n",
    "    ''' create a database connection to a SQLITE database'''\n",
    "    conn = None\n",
    "    try:\n",
    "        conn = sqlite3.connect(db_file)\n",
    "        if verbose:\n",
    "            print(f'Using SQlite Version: {sqlite3.version}')\n",
    "            print(f'Creating Connection to {db_file}...')\n",
    "        return conn\n",
    "    except sqlite3.Error as e:\n",
    "        print(e)\n",
    "        \n",
    "\n",
    "def select_all_query(db_file, query, verbose = False):\n",
    "    \"\"\"\n",
    "    Query all rows in the database Table\n",
    "    :param  conn: the Connection object\n",
    "    :return: result as list\n",
    "    \"\"\"\n",
    "    conn = create_connection(db_file, verbose)\n",
    "    cur = conn.cursor()\n",
    "    if not query.startswith('SELECT'):\n",
    "        raise ValueError('Query should begin with SELECT')\n",
    "        \n",
    "    cur.execute(query)\n",
    "    rows = cur.fetchall()\n",
    "    \n",
    "    if verbose:\n",
    "        for row in rows:\n",
    "            print(row)\n",
    "    return rows        "
   ]
  },
  {
   "cell_type": "code",
   "execution_count": 17,
   "metadata": {},
   "outputs": [
    {
     "name": "stdout",
     "output_type": "stream",
     "text": [
      "[('django_migrations',), ('sqlite_sequence',), ('auth_group',), ('auth_group_permissions',), ('auth_user_groups',), ('auth_user_user_permissions',), ('django_admin_log',), ('armory_item',), ('armory_weapon',), ('django_content_type',), ('auth_permission',), ('auth_user',), ('charactercreator_character_inventory',), ('charactercreator_necromancer',), ('django_session',), ('charactercreator_character',), ('charactercreator_cleric',), ('charactercreator_fighter',), ('charactercreator_mage',), ('charactercreator_thief',)]\n"
     ]
    }
   ],
   "source": [
    "\"\"\"Listing all the Columns so we know what we're working with\"\"\"\n",
    "con = sqlite3.connect('rpg_db.sqlite3')\n",
    "c = con.cursor()\n",
    "c.execute(\"SELECT name FROM sqlite_master WHERE type='table';\")\n",
    "print(c.fetchall())"
   ]
  },
  {
   "cell_type": "code",
   "execution_count": 7,
   "metadata": {},
   "outputs": [
    {
     "data": {
      "text/plain": [
       "(302,)"
      ]
     },
     "execution_count": 7,
     "metadata": {},
     "output_type": "execute_result"
    }
   ],
   "source": [
    "\"\"\"Question 1: Count of all characters \"\"\"\n",
    "results = select_all_query('rpg_db.sqlite3', 'SELECT COUNT(*) FROM charactercreator_character')\n",
    "results[0]"
   ]
  },
  {
   "cell_type": "code",
   "execution_count": 10,
   "metadata": {},
   "outputs": [
    {
     "data": {
      "text/plain": [
       "(308998800,)"
      ]
     },
     "execution_count": 10,
     "metadata": {},
     "output_type": "execute_result"
    }
   ],
   "source": [
    "\"\"\"Question 2: How many of each specific subclass? \"\"\"\n",
    "results0 = select_all_query('rpg_db.sqlite3', 'SELECT COUNT(*) FROM charactercreator_cleric, charactercreator_fighter, charactercreator_mage, charactercreator_necromancer, charactercreator_thief')\n",
    "results0[0]"
   ]
  },
  {
   "cell_type": "code",
   "execution_count": 14,
   "metadata": {},
   "outputs": [
    {
     "data": {
      "text/plain": [
       "(5781324,)"
      ]
     },
     "execution_count": 14,
     "metadata": {},
     "output_type": "execute_result"
    }
   ],
   "source": [
    "\"\"\"Question 3: How many total Items?\"\"\"\n",
    "results1 = select_all_query('rpg_db.sqlite3', 'SELECT COUNT(*) FROM armory_item, armory_weapon, charactercreator_character_inventory')\n",
    "results1[0]\n"
   ]
  },
  {
   "cell_type": "code",
   "execution_count": 42,
   "metadata": {},
   "outputs": [
    {
     "data": {
      "text/plain": [
       "((37,), [(898,)])"
      ]
     },
     "execution_count": 42,
     "metadata": {},
     "output_type": "execute_result"
    }
   ],
   "source": [
    "\"\"\"Question 4: How many of the Items are weapons? How many are not?\"\"\"\n",
    "results2 = select_all_query('rpg_db.sqlite3', 'SELECT COUNT(*) FROM armory_weapon')\n",
    "\n",
    "results3 = select_all_query('rpg_db.sqlite3', \"SELECT COUNT(*) FROM charactercreator_character_inventory\")\n",
    "\n",
    "\n",
    "\n",
    "results2[0], results3"
   ]
  },
  {
   "cell_type": "code",
   "execution_count": 53,
   "metadata": {},
   "outputs": [
    {
     "name": "stdout",
     "output_type": "stream",
     "text": [
      "Character | Item\n"
     ]
    },
    {
     "ename": "OperationalError",
     "evalue": "near \"JOIN\": syntax error",
     "output_type": "error",
     "traceback": [
      "\u001b[0;31m---------------------------------------------------------------------------\u001b[0m",
      "\u001b[0;31mOperationalError\u001b[0m                          Traceback (most recent call last)",
      "\u001b[0;32m<ipython-input-53-0325c77c7965>\u001b[0m in \u001b[0;36m<module>\u001b[0;34m\u001b[0m\n\u001b[1;32m     12\u001b[0m     '''\n\u001b[1;32m     13\u001b[0m \u001b[0mprint\u001b[0m\u001b[0;34m(\u001b[0m\u001b[0;34m'Character | Item'\u001b[0m\u001b[0;34m)\u001b[0m\u001b[0;34m\u001b[0m\u001b[0;34m\u001b[0m\u001b[0m\n\u001b[0;32m---> 14\u001b[0;31m \u001b[0mrows\u001b[0m \u001b[0;34m=\u001b[0m \u001b[0mc\u001b[0m\u001b[0;34m.\u001b[0m\u001b[0mexecute\u001b[0m\u001b[0;34m(\u001b[0m\u001b[0mquery1\u001b[0m\u001b[0;34m)\u001b[0m\u001b[0;34m\u001b[0m\u001b[0;34m\u001b[0m\u001b[0m\n\u001b[0m\u001b[1;32m     15\u001b[0m \u001b[0;32mfor\u001b[0m \u001b[0mrow\u001b[0m \u001b[0;32min\u001b[0m \u001b[0mrows\u001b[0m\u001b[0;34m:\u001b[0m\u001b[0;34m\u001b[0m\u001b[0;34m\u001b[0m\u001b[0m\n\u001b[1;32m     16\u001b[0m     \u001b[0mname\u001b[0m \u001b[0;34m=\u001b[0m \u001b[0mrow\u001b[0m\u001b[0;34m[\u001b[0m\u001b[0;36m0\u001b[0m\u001b[0;34m]\u001b[0m\u001b[0;34m\u001b[0m\u001b[0;34m\u001b[0m\u001b[0m\n",
      "\u001b[0;31mOperationalError\u001b[0m: near \"JOIN\": syntax error"
     ]
    }
   ],
   "source": [
    "\"\"\"Question 5 Part 1: How many Items does each character have? (Return first 20 rows)\"\"\"\n",
    "\n",
    "query1 = '''\n",
    "    SELECT character.name, count(item.item_id) as item_count\n",
    "        FROM charactercreator_character AS character,\n",
    "        JOIN charactercreator_character_inventory AS inventory\n",
    "        ON character.character_id = inventory.character_id\n",
    "        JOIN armory_item AS item\n",
    "        ON inventory.item_id = item.item.id\n",
    "        GROUP BY character.name\n",
    "        LIMIT 5;\n",
    "    '''\n",
    "print('Character | Item')\n",
    "rows = c.execute(query1)\n",
    "for row in rows:\n",
    "    name = row[0]\n",
    "    print(name, ' | ' ,row[1])"
   ]
  },
  {
   "cell_type": "code",
   "execution_count": 27,
   "metadata": {},
   "outputs": [
    {
     "data": {
      "text/plain": [
       "[(1, 1, 58),\n",
       " (2, 1, 20),\n",
       " (3, 1, 85),\n",
       " (4, 2, 115),\n",
       " (5, 2, 93),\n",
       " (6, 2, 133),\n",
       " (7, 3, 8),\n",
       " (8, 3, 43),\n",
       " (9, 4, 82),\n",
       " (10, 4, 21),\n",
       " (11, 4, 85),\n",
       " (12, 4, 135),\n",
       " (13, 5, 96),\n",
       " (14, 5, 145),\n",
       " (15, 5, 140),\n",
       " (16, 5, 7),\n",
       " (17, 6, 93),\n",
       " (18, 7, 38),\n",
       " (19, 7, 42),\n",
       " (20, 7, 123)]"
      ]
     },
     "execution_count": 27,
     "metadata": {},
     "output_type": "execute_result"
    }
   ],
   "source": [
    "\"\"\"Part 2: REturn first 20 rows \"\"\"\n",
    "c.execute(\"SELECT * FROM charactercreator_character_inventory\")\n",
    "c.fetchmany(20)"
   ]
  },
  {
   "cell_type": "code",
   "execution_count": 39,
   "metadata": {},
   "outputs": [
    {
     "data": {
      "text/plain": [
       "(898,)"
      ]
     },
     "execution_count": 39,
     "metadata": {},
     "output_type": "execute_result"
    }
   ],
   "source": [
    "\"\"\"Question 6: How many Weapons does each character have? (Return first 20 rows)\"\"\"\n",
    "c.execute(\"SELECT COUNT(item_id) FROM charactercreator_character_inventory\")\n",
    "c.fetchone()"
   ]
  },
  {
   "cell_type": "code",
   "execution_count": 50,
   "metadata": {},
   "outputs": [
    {
     "data": {
      "text/plain": [
       "(3,)"
      ]
     },
     "execution_count": 50,
     "metadata": {},
     "output_type": "execute_result"
    }
   ],
   "source": [
    "\"\"\"Question 7: On average, how many Items does each Character have?\"\"\"\n",
    "c.execute(\"SELECT AVG(character_id)  FROM charactercreator_character_inventory GROUP BY character_id\")\n",
    "c.fetchone()"
   ]
  },
  {
   "cell_type": "code",
   "execution_count": null,
   "metadata": {},
   "outputs": [],
   "source": [
    "\"\"\"Question 8: On average, how many Weapons does each character have?\"\"\""
   ]
  },
  {
   "cell_type": "code",
   "execution_count": null,
   "metadata": {},
   "outputs": [],
   "source": []
  },
  {
   "cell_type": "code",
   "execution_count": 44,
   "metadata": {},
   "outputs": [],
   "source": [
    "\"\"\"Part 2, MAking and Populating a Database\"\"\"\n",
    "import pandas as pd\n",
    "df = pd.read_csv('buddymove_holidayiq.csv')"
   ]
  },
  {
   "cell_type": "code",
   "execution_count": null,
   "metadata": {},
   "outputs": [],
   "source": []
  },
  {
   "cell_type": "code",
   "execution_count": null,
   "metadata": {},
   "outputs": [],
   "source": []
  },
  {
   "cell_type": "code",
   "execution_count": null,
   "metadata": {},
   "outputs": [],
   "source": []
  },
  {
   "cell_type": "code",
   "execution_count": null,
   "metadata": {},
   "outputs": [],
   "source": []
  },
  {
   "cell_type": "code",
   "execution_count": 51,
   "metadata": {},
   "outputs": [],
   "source": []
  },
  {
   "cell_type": "code",
   "execution_count": 54,
   "metadata": {},
   "outputs": [
    {
     "name": "stdout",
     "output_type": "stream",
     "text": [
      "Total # of characters: 302\n",
      "# of clerics: 75\n",
      "# of fighters: 68\n",
      "# of mages: 108\n",
      "# of necromancers: 11\n",
      "# of thieves: 51\n",
      "# items: 174\n",
      "Weapons:  37\n",
      "Not weapons:  137\n",
      "# of items for first 20 characters:  [3, 3, 2, 4, 4, 1, 5, 3, 4, 4, 3, 3, 4, 4, 4, 1, 5, 5, 3, 1]\n",
      "# of weapons for first 20 characters:  [2, 1, 1, 1, 1, 1, 1, 3, 2, 1, 1, 1, 2, 3, 2, 2, 2, 1, 1, 1]\n",
      "1.5\n",
      "Avg. Items per Character:  2.9735099337748343\n",
      "Avg. Weapons per Character:  1.3096774193548386\n"
     ]
    }
   ],
   "source": [
    "\n",
    "import sqlite3\n",
    "import numpy as np\n",
    "\n",
    "conn = sqlite3.connect('rpg_db.sqlite3')\n",
    "curs = conn.cursor()\n",
    "\n",
    "# How many total Characters are there?\n",
    "\n",
    "query = \"\"\"SELECT COUNT(character_id)\n",
    "FROM charactercreator_character AS cc\"\"\"\n",
    "\n",
    "results = curs.execute(query)\n",
    "print(\"Total # of characters:\", results.fetchall()[0][0])\n",
    "# How many of each specific subclass?\n",
    "\n",
    "query = \"\"\"SELECT COUNT(character_ptr_id)\n",
    "FROM charactercreator_cleric as cc_cleric\"\"\"\n",
    "results = curs.execute(query)\n",
    "print(\"# of clerics:\", results.fetchall()[0][0])\n",
    "\n",
    "query = \"\"\"SELECT COUNT(character_ptr_id)\n",
    "FROM charactercreator_fighter\"\"\"\n",
    "results = curs.execute(query)\n",
    "print(\"# of fighters:\", results.fetchall()[0][0])\n",
    "\n",
    "query = \"\"\"SELECT COUNT(character_ptr_id)\n",
    "FROM charactercreator_mage\"\"\"\n",
    "results = curs.execute(query)\n",
    "print(\"# of mages:\", results.fetchall()[0][0])\n",
    "\n",
    "query = \"\"\"SELECT COUNT(mage_ptr_id)\n",
    "FROM charactercreator_necromancer\"\"\"\n",
    "results = curs.execute(query)\n",
    "print(\"# of necromancers:\", results.fetchall()[0][0])\n",
    "\n",
    "query = \"\"\"SELECT COUNT(character_ptr_id)\n",
    "FROM charactercreator_thief\"\"\"\n",
    "results = curs.execute(query)\n",
    "print(\"# of thieves:\", results.fetchall()[0][0])\n",
    "\n",
    "# How many total Items?\n",
    "query = \"\"\"SELECT COUNT(item_id)\n",
    "FROM armory_item\"\"\"\n",
    "results = curs.execute(query)\n",
    "print(\"# items:\", results.fetchall()[0][0])\n",
    "\n",
    "\n",
    "# How many of the Items are weapons? How many are not?\n",
    "query = \"\"\"SELECT COUNT(ai.item_id)\n",
    "FROM armory_item as ai, armory_weapon as aw\n",
    "WHERE ai.item_id = aw.item_ptr_id\"\"\"\n",
    "results = curs.execute(query)\n",
    "print(\"Weapons: \", results.fetchall()[0][0])\n",
    "\n",
    "# Not working\n",
    "query = \"\"\"SELECT COUNT(item_id)\n",
    "FROM armory_item\n",
    "WHERE item_id NOT IN (SELECT item_ptr_id FROM armory_weapon);\"\"\"\n",
    "results = curs.execute(query)\n",
    "print(\"Not weapons: \", results.fetchall()[0][0])\n",
    "\n",
    "# How many Items does each character have? (Return first 20 rows)\n",
    "query = \"\"\"SELECT character_id, item_id, COUNT(*)\n",
    "FROM charactercreator_character_inventory\n",
    "GROUP BY character_id\n",
    "LIMIT 20;\"\"\"\n",
    "results = curs.execute(query)\n",
    "matrix = results.fetchall()\n",
    "item_list = []\n",
    "for row in matrix:\n",
    "    item_list.append(row[2])\n",
    "\n",
    "print(\"# of items for first 20 characters: \", item_list)\n",
    "\n",
    "# How many Weapons does each character have? (Return first 20 rows)\n",
    "query = \"\"\"SELECT character_id, item_id, COUNT(*)\n",
    "FROM charactercreator_character_inventory\n",
    "WHERE item_id IN (SELECT item_ptr_id FROM armory_weapon)\n",
    "GROUP BY character_id\n",
    "LIMIT 20;\n",
    "\"\"\"\n",
    "results = curs.execute(query)\n",
    "matrix = results.fetchall()\n",
    "weapon_list = []\n",
    "for row in matrix:\n",
    "    weapon_list.append(row[2])\n",
    "\n",
    "print(\"# of weapons for first 20 characters: \", weapon_list)\n",
    "print(sum(weapon_list)/len(weapon_list))\n",
    "# On average, how many Items does each Character have?\n",
    "\n",
    "query = \"\"\"SELECT AVG(counted) FROM (\n",
    "SELECT character_id, item_id, COUNT(*) AS counted\n",
    "FROM charactercreator_character_inventory\n",
    "GROUP BY character_id);\n",
    "\"\"\"\n",
    "results = curs.execute(query)\n",
    "print(\"Avg. Items per Character: \", results.fetchall()[0][0])\n",
    "\n",
    "# On average, how many Weapons does each character have?\n",
    "\n",
    "query = \"\"\"SELECT AVG(counted) FROM (\n",
    "SELECT character_id, item_id, COUNT(*) AS counted\n",
    "FROM charactercreator_character_inventory\n",
    "WHERE item_id IN (SELECT item_ptr_id FROM armory_weapon)\n",
    "GROUP BY character_id);\n",
    "\"\"\"\n",
    "results = curs.execute(query)\n",
    "print(\"Avg. Weapons per Character: \", results.fetchall()[0][0])"
   ]
  },
  {
   "cell_type": "code",
   "execution_count": null,
   "metadata": {},
   "outputs": [],
   "source": []
  }
 ],
 "metadata": {
  "kernelspec": {
   "display_name": "Python 3",
   "language": "python",
   "name": "python3"
  },
  "language_info": {
   "codemirror_mode": {
    "name": "ipython",
    "version": 3
   },
   "file_extension": ".py",
   "mimetype": "text/x-python",
   "name": "python",
   "nbconvert_exporter": "python",
   "pygments_lexer": "ipython3",
   "version": "3.7.3"
  }
 },
 "nbformat": 4,
 "nbformat_minor": 2
}
